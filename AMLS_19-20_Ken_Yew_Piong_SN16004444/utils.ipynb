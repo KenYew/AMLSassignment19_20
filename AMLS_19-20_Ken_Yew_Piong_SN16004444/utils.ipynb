{
 "cells": [
  {
   "cell_type": "markdown",
   "metadata": {},
   "source": [
    "# Utility Functions"
   ]
  },
  {
   "cell_type": "markdown",
   "metadata": {},
   "source": [
    "## 1.1 Import Libraries"
   ]
  },
  {
   "cell_type": "code",
   "execution_count": null,
   "metadata": {},
   "outputs": [],
   "source": [
    "import os\n",
    "import pandas as pd"
   ]
  },
  {
   "cell_type": "markdown",
   "metadata": {},
   "source": [
    "## 1.2 Global Parameters"
   ]
  },
  {
   "cell_type": "code",
   "execution_count": null,
   "metadata": {},
   "outputs": [],
   "source": [
    "# PATH TO ALL IMAGES\n",
    "global basedir, image_paths, target_size\n",
    "basedir = './dataset'\n",
    "images_dir = os.path.join(basedir,'celeba')\n",
    "labels_filename = 'labels.csv'"
   ]
  },
  {
   "cell_type": "markdown",
   "metadata": {},
   "source": [
    "## 2.0 Data Pre-processing Functions"
   ]
  },
  {
   "cell_type": "code",
   "execution_count": 2,
   "metadata": {},
   "outputs": [],
   "source": [
    "def split_df(df):\n",
    "    \"\"\"\n",
    "    :Function: Split the column into separate columns by '\\t'\n",
    "    :df type: Pandas dataframe - unprocessed data\n",
    "    :rtype: Pandas dataframe - processed and split data\n",
    "    \"\"\"\n",
    "    split_function = lambda x: pd.Series([i for i in str(x).split('\\t')])\n",
    "    processed_df = df['\\timg_name\\tgender\\tsmiling'].apply(split_function)\n",
    "    processed_df.rename(columns={0:'index', 1:'img_name', 2:'gender', 3:'smiling'}, inplace=True)\n",
    "    processed_df.drop(['index'], axis=1, inplace=True)\n",
    "    return processed_df\n"
   ]
  }
 ],
 "metadata": {
  "kernelspec": {
   "display_name": "Python 3",
   "language": "python",
   "name": "python3"
  },
  "language_info": {
   "codemirror_mode": {
    "name": "ipython",
    "version": 3
   },
   "file_extension": ".py",
   "mimetype": "text/x-python",
   "name": "python",
   "nbconvert_exporter": "python",
   "pygments_lexer": "ipython3",
   "version": "3.7.3"
  }
 },
 "nbformat": 4,
 "nbformat_minor": 4
}
