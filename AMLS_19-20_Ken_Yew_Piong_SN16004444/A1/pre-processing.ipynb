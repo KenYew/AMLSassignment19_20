{
 "cells": [
  {
   "cell_type": "code",
   "execution_count": 86,
   "metadata": {},
   "outputs": [],
   "source": [
    "import os\n",
    "import pandas as pd"
   ]
  },
  {
   "cell_type": "code",
   "execution_count": 87,
   "metadata": {},
   "outputs": [
    {
     "data": {
      "text/plain": [
       "'/Users/kenyew/Documents/Git/AMLSassignment19_20/AMLS_19-20_Ken_Yew_Piong_SN16004444'"
      ]
     },
     "execution_count": 87,
     "metadata": {},
     "output_type": "execute_result"
    }
   ],
   "source": [
    "os.chdir(\"/Users/kenyew/Documents/Git/AMLSassignment19_20/AMLS_19-20_Ken_Yew_Piong_SN16004444/\")\n",
    "os.getcwd()"
   ]
  },
  {
   "cell_type": "code",
   "execution_count": 88,
   "metadata": {},
   "outputs": [],
   "source": [
    "dataset_path = \"./Datasets\"\n",
    "# for dirpath, dirnames, filenames in os.walk(dataset_path):\n",
    "#     print(\"dirpath:\", dirpath, \"dirnames\", dirnames)"
   ]
  },
  {
   "cell_type": "code",
   "execution_count": 105,
   "metadata": {},
   "outputs": [
    {
     "name": "stdout",
     "output_type": "stream",
     "text": [
      "      img_name gender smiling\n",
      "0        0.jpg     -1       1\n",
      "1        1.jpg     -1       1\n",
      "2        2.jpg      1      -1\n",
      "3        3.jpg     -1      -1\n",
      "4        4.jpg     -1      -1\n",
      "...        ...    ...     ...\n",
      "4995  4995.jpg      1       1\n",
      "4996  4996.jpg      1       1\n",
      "4997  4997.jpg      1       1\n",
      "4998  4998.jpg      1       1\n",
      "4999  4999.jpg      1       1\n",
      "\n",
      "[5000 rows x 3 columns]\n"
     ]
    }
   ],
   "source": [
    "df = pd.read_csv(\"./Datasets/celeba/labels.csv\")\n",
    "\n",
    "def split_df(df):\n",
    "    \"\"\"\n",
    "    Function: Split the column into separate columns by '\\t'\n",
    "    :df type: Pandas dataframe - unprocessed data\n",
    "    :rtype: Pandas dataframe - processed and split data\n",
    "    \"\"\"\n",
    "    split_function = lambda x: pd.Series([i for i in str(x).split('\\t')])\n",
    "    processed_df = df['\\timg_name\\tgender\\tsmiling'].apply(split_function)\n",
    "    processed_df.rename(columns={0:'index', 1:'img_name', 2:'gender', 3:'smiling'}, inplace=True)\n",
    "    processed_df.drop(['index'], axis=1, inplace=True)\n",
    "    return processed_df\n",
    "\n",
    "my_df = split_df(df)\n",
    "print(my_df)"
   ]
  },
  {
   "cell_type": "code",
   "execution_count": null,
   "metadata": {},
   "outputs": [],
   "source": []
  }
 ],
 "metadata": {
  "kernelspec": {
   "display_name": "Python 3",
   "language": "python",
   "name": "python3"
  },
  "language_info": {
   "codemirror_mode": {
    "name": "ipython",
    "version": 3
   },
   "file_extension": ".py",
   "mimetype": "text/x-python",
   "name": "python",
   "nbconvert_exporter": "python",
   "pygments_lexer": "ipython3",
   "version": "3.7.3"
  }
 },
 "nbformat": 4,
 "nbformat_minor": 4
}
