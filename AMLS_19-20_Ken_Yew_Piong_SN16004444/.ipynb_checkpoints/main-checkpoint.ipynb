{
 "cells": [
  {
   "cell_type": "code",
   "execution_count": 46,
   "metadata": {},
   "outputs": [],
   "source": [
    "import os, math, import_ipynb, cv2, dlib\n",
    "import numpy as np\n",
    "import pandas as pd\n",
    "import matplotlib.pyplot as plt\n",
    "from keras.preprocessing import image\n",
    "\n",
    "from sklearn.metrics import classification_report, accuracy_score\n",
    "from sklearn.svm import SVC\n",
    "from sklearn.preprocessing import StandardScaler\n",
    "from sklearn.neural_network import MLPClassifier\n",
    "from sklearn.model_selection import GridSearchCV, RandomizedSearchCV\n",
    "\n",
    "from utils import *"
   ]
  },
  {
   "cell_type": "code",
   "execution_count": 2,
   "metadata": {},
   "outputs": [
    {
     "data": {
      "text/plain": [
       "'/Users/kenyew/Documents/Git/AMLSassignment19_20/AMLS_19-20_Ken_Yew_Piong_SN16004444'"
      ]
     },
     "execution_count": 2,
     "metadata": {},
     "output_type": "execute_result"
    }
   ],
   "source": [
    "os.chdir(\"/Users/kenyew/Documents/Git/AMLSassignment19_20/AMLS_19-20_Ken_Yew_Piong_SN16004444/\")\n",
    "os.getcwd()"
   ]
  },
  {
   "cell_type": "code",
   "execution_count": 3,
   "metadata": {},
   "outputs": [
    {
     "name": "stdout",
     "output_type": "stream",
     "text": [
      "      img_name gender smiling\n",
      "0        0.jpg     -1       1\n",
      "1        1.jpg     -1       1\n",
      "2        2.jpg      1      -1\n",
      "3        3.jpg     -1      -1\n",
      "4        4.jpg     -1      -1\n",
      "...        ...    ...     ...\n",
      "4995  4995.jpg      1       1\n",
      "4996  4996.jpg      1       1\n",
      "4997  4997.jpg      1       1\n",
      "4998  4998.jpg      1       1\n",
      "4999  4999.jpg      1       1\n",
      "\n",
      "[5000 rows x 3 columns]\n"
     ]
    }
   ],
   "source": [
    "df = pd.read_csv(\"./Datasets/celeba/labels.csv\")\n",
    "df = split_df(df)\n",
    "print(df)"
   ]
  },
  {
   "cell_type": "code",
   "execution_count": 4,
   "metadata": {},
   "outputs": [],
   "source": [
    "img_name_data = df['img_name']\n",
    "gender_data = df['gender']\n",
    "smiling_data = df['smiling']"
   ]
  },
  {
   "cell_type": "code",
   "execution_count": 7,
   "metadata": {},
   "outputs": [],
   "source": [
    "landmark_features_celeba, gender_labels, smiling_labels = extract_features_labels_from_celeba()\n",
    "landmark_features_cartoon_set, eye_color_labels, face_shape_labels = extract_features_labels_from_cartoon_set()"
   ]
  },
  {
   "cell_type": "code",
   "execution_count": 50,
   "metadata": {},
   "outputs": [
    {
     "name": "stdout",
     "output_type": "stream",
     "text": [
      "(4800, 68, 2)\n",
      "(7815, 68, 2)\n",
      "[1. 0. 0. ... 0. 1. 0.]\n",
      "[1 1 4 ... 1 4 3]\n"
     ]
    }
   ],
   "source": [
    "print(landmark_features_celeba.shape)\n",
    "print(landmark_features_cartoon_set.shape)\n",
    "print(gender_labels)\n",
    "print(face_shape_labels)"
   ]
  },
  {
   "cell_type": "code",
   "execution_count": 63,
   "metadata": {},
   "outputs": [],
   "source": [
    "def get_split_data(X, y, split_percentage):\n",
    "    \n",
    "    Y = np.array([y, -(y - 1)]).T\n",
    "    split = int(len(X) * (split_percentage/100))\n",
    "    tr_X = X[:split]\n",
    "    tr_Y = Y[:split]\n",
    "    te_X = X[split:]\n",
    "    te_Y = Y[split:]\n",
    "    \n",
    "    tr_X = tr_X.reshape(len(tr_X), 68*2)\n",
    "    tr_Y = list(zip(*tr_Y))[0]\n",
    "    te_X = te_X.reshape(len(te_X), 68*2)\n",
    "    te_Y = list(zip(*te_Y))[0]\n",
    "    \n",
    "    return tr_X, tr_Y, te_X, te_Y\n",
    "\n",
    "tr_X, tr_Y, te_X, te_Y = get_split_data(landmark_features_celeba, gender_labels, 80)"
   ]
  },
  {
   "cell_type": "code",
   "execution_count": null,
   "metadata": {},
   "outputs": [],
   "source": [
    "def img_SVM(training_images, training_labels, test_images, test_labels):\n",
    "    classifier = SVC(kernel = 'linear', gamma = 'auto')\n",
    "    classifier.fit(training_images, training_labels)\n",
    "    pred = classifier.predict(test_images)\n",
    "    \n",
    "    print(classifier.best_params_)\n",
    "    print('Accuracy:', accuracy_score(test_labels, pred))\n",
    "    print('Training Error:', classifier.score(training_images, training_labels))\n",
    "    print('Testing Error:', classifier.score(test_images, test_labels))\n",
    "    print('Validation Error:', cross_val_score(classifier, training_images, training_labels, scoring = 'accuracy', cv=20))\n",
    "\n",
    "    return pred\n",
    "\n",
    "def img_SVM_GridCV(training_images, training_labels, test_images, test_labels):\n",
    "    parameters = {'kernel':['linear', 'rbf', 'poly'], 'C':[0.1, 0.5, 1, 5, 10]}\n",
    "    classifier = GridSearchCV(SVC(gamma = 'auto'), parameters)\n",
    "    classifier.fit(training_images, training_labels)\n",
    "    pred = classifier.predict(test_images)\n",
    "    \n",
    "    print(classifier.best_params_)\n",
    "    print('Accuracy:', accuracy_score(test_labels, pred))\n",
    "    print('Training Error:', classifier.score(training_images, training_labels))\n",
    "    print('Testing Error:', classifier.score(test_images, test_labels))\n",
    "    print('Validation Error:', cross_val_score(classifier, training_images, training_labels, scoring = 'accuracy', cv=20))\n",
    "\n",
    "    return pred\n",
    "\n",
    "def img_SVM_RandomCV(training_images, training_labels, test_images, test_labels):\n",
    "    parameters = {'kernel':['linear', 'rbf', 'poly'], 'C':[0.1, 0.5, 1, 5, 10]}\n",
    "    classifier = RandomizedSearchCV(SVC(gamma = 'auto'), parameters)\n",
    "    classifier.fit(training_images, training_labels)\n",
    "    pred = classifier.predict(test_images)\n",
    "    \n",
    "    print(classifier.best_params_)\n",
    "    print('Accuracy:', accuracy_score(test_labels, pred))\n",
    "    print('Training Error:', classifier.score(training_images, training_labels))\n",
    "    print('Testing Error:', classifier.score(test_images, test_labels))\n",
    "    print('Validation Error:', cross_val_score(classifier, training_images, training_labels, scoring = 'accuracy', cv=20))\n",
    "\n",
    "    return pred\n",
    "    \n",
    "pred_img_SVM = img_SVM(tr_X, tr_Y, te_X, te_Y)\n",
    "pred_img_SVM_GridCV = img_SVM_GridCV(tr_X, tr_Y, te_X, te_Y)\n",
    "pred_img_SVM_RandomCV = img_SVM_RandomCV(tr_X, tr_Y, te_X, te_Y)\n",
    "\n",
    "# [0. 1. 0. ... 0. 1. 0.]\n",
    "# Training Error:  1.0\n",
    "# {'C': 1, 'kernel': 'linear'}"
   ]
  },
  {
   "cell_type": "code",
   "execution_count": 37,
   "metadata": {},
   "outputs": [],
   "source": [
    "# sklearn functions implementation\n",
    "def img_SVM(training_images, training_labels, test_images, test_labels):\n",
    "    classifier = SVC(kernel = \"linear\")\n",
    "    classifier.fit(training_images, training_labels)\n",
    "    pred = classifier.predict(test_images)\n",
    "    print(\"Accuracy:\", accuracy_score(test_labels, pred))\n",
    "#     print(pred)\n",
    "    return pred\n",
    "\n",
    "def scale_data(training_images, test_images):\n",
    "    scaler = StandardScaler()\n",
    "    scaler.fit(training_images)\n",
    "    tr_X = scaler.transform(training_images)\n",
    "    te_X = scaler.transform(test_images)\n",
    "\n",
    "    return tr_X, te_X\n",
    "\n",
    "def img_MLP(training_images, training_labels, test_images, test_labels): \n",
    "    model = MLPClassifier(solver = 'adam', alpha = 1e-5, hidden_layer_sizes = (3,2), random_state = 1)\n",
    "    tr_X, te_X = scale_data(training_images, test_images)\n",
    "    model.fit(training_images, training_labels)\n",
    "    pred = model.predict(test_images)\n",
    "    print(\"Accuracy:\", accuracy_score(test_labels, pred))\n",
    "    \n",
    "    return pred"
   ]
  },
  {
   "cell_type": "code",
   "execution_count": null,
   "metadata": {},
   "outputs": [],
   "source": [
    "pred_img_SVM = img_SVM(tr_X.reshape((100, 68*2)), list(zip(*tr_Y))[0], te_X.reshape((4700, 68*2)), list(zip(*te_Y))[0])"
   ]
  },
  {
   "cell_type": "code",
   "execution_count": null,
   "metadata": {},
   "outputs": [],
   "source": [
    "pred_img_MLP = img_MLP(tr_X.reshape((100, 68*2)), list(zip(*tr_Y))[0], te_X.reshape((4700, 68*2)), list(zip(*te_Y))[0])"
   ]
  },
  {
   "cell_type": "markdown",
   "metadata": {},
   "source": [
    "# Archive"
   ]
  },
  {
   "cell_type": "code",
   "execution_count": null,
   "metadata": {},
   "outputs": [],
   "source": [
    "# model.fit(X_train, y_train).score(X_train, y_train) FOR TRAINING ERROR\n",
    "#     train_errors.append(enet.score(X_train, y_train))\n",
    "#     test_errors.append(enet.score(X_test, y_test))\n",
    "# classification_report(expected, y_1)\n",
    "\n",
    "# Exhaustive List \n",
    "#     param_grid = [\n",
    "#   {'C': [1, 10, 100, 1000], 'kernel': ['linear']},\n",
    "#   {'C': [1, 10, 100, 1000], 'gamma': [0.001, 0.0001], 'kernel': ['rbf']},\n",
    "#  ]\n",
    "\n",
    "# def get_data(X, y):\n",
    "#     Y = np.array([y, -(y - 1)]).T\n",
    "#     tr_X = X[:100]\n",
    "#     tr_Y = Y[:100]\n",
    "#     te_X = X[100:]\n",
    "#     te_Y = Y[100:]\n",
    "#     print(len(tr_X))\n",
    "#     print(len(te_X))\n",
    "    \n",
    "#     tr_X = tr_X.reshape(len(tr_X), 68*2)\n",
    "#     tr_Y = list(zip(*tr_Y))[0]\n",
    "#     te_X = te_X.reshape(len(te_X), 68*2)\n",
    "#     te_Y = list(zip(*te_Y))[0]\n",
    "#     return tr_X, tr_Y, te_X, te_Y\n",
    "# tr_X, tr_Y, te_X, te_Y = get_data(landmark_features_celeba, gender_labels)"
   ]
  }
 ],
 "metadata": {
  "kernelspec": {
   "display_name": "Python 3",
   "language": "python",
   "name": "python3"
  },
  "language_info": {
   "codemirror_mode": {
    "name": "ipython",
    "version": 3
   },
   "file_extension": ".py",
   "mimetype": "text/x-python",
   "name": "python",
   "nbconvert_exporter": "python",
   "pygments_lexer": "ipython3",
   "version": "3.7.3"
  }
 },
 "nbformat": 4,
 "nbformat_minor": 4
}
