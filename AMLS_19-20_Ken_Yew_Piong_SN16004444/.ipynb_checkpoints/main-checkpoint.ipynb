{
 "cells": [
  {
   "cell_type": "code",
   "execution_count": 45,
   "metadata": {},
   "outputs": [],
   "source": [
    "import os, math, import_ipynb, cv2, dlib\n",
    "import numpy as np\n",
    "import pandas as pd\n",
    "import matplotlib.pyplot as plt\n",
    "from keras.preprocessing import image\n",
    "\n",
    "from sklearn.metrics import classification_report,accuracy_score\n",
    "from sklearn.svm import SVC\n",
    "from sklearn.preprocessing import StandardScaler\n",
    "from sklearn.neural_network import MLPClassifier\n",
    "\n",
    "from utils import *"
   ]
  },
  {
   "cell_type": "code",
   "execution_count": 2,
   "metadata": {},
   "outputs": [
    {
     "data": {
      "text/plain": [
       "'/Users/kenyew/Documents/Git/AMLSassignment19_20/AMLS_19-20_Ken_Yew_Piong_SN16004444'"
      ]
     },
     "execution_count": 2,
     "metadata": {},
     "output_type": "execute_result"
    }
   ],
   "source": [
    "os.chdir(\"/Users/kenyew/Documents/Git/AMLSassignment19_20/AMLS_19-20_Ken_Yew_Piong_SN16004444/\")\n",
    "os.getcwd()"
   ]
  },
  {
   "cell_type": "code",
   "execution_count": 3,
   "metadata": {},
   "outputs": [
    {
     "name": "stdout",
     "output_type": "stream",
     "text": [
      "      img_name gender smiling\n",
      "0        0.jpg     -1       1\n",
      "1        1.jpg     -1       1\n",
      "2        2.jpg      1      -1\n",
      "3        3.jpg     -1      -1\n",
      "4        4.jpg     -1      -1\n",
      "...        ...    ...     ...\n",
      "4995  4995.jpg      1       1\n",
      "4996  4996.jpg      1       1\n",
      "4997  4997.jpg      1       1\n",
      "4998  4998.jpg      1       1\n",
      "4999  4999.jpg      1       1\n",
      "\n",
      "[5000 rows x 3 columns]\n"
     ]
    }
   ],
   "source": [
    "df = pd.read_csv(\"./Datasets/celeba/labels.csv\")\n",
    "df = split_df(df)\n",
    "print(df)"
   ]
  },
  {
   "cell_type": "code",
   "execution_count": 4,
   "metadata": {},
   "outputs": [],
   "source": [
    "img_name_data = df['img_name']\n",
    "gender_data = df['gender']\n",
    "smiling_data = df['smiling']"
   ]
  },
  {
   "cell_type": "code",
   "execution_count": 5,
   "metadata": {},
   "outputs": [],
   "source": [
    "def extract_features_labels_from_celeba():\n",
    "    \"\"\"\n",
    "    This funtion extracts the landmarks features for all images in the folder 'dataset/celeba'.\n",
    "    It also extract the gender label for each image.\n",
    "    :return:\n",
    "        landmark_features:  an array containing 68 landmark points for each image in which a face was detected\n",
    "        gender_labels:      an array containing the gender label (male=0 and female=1) for each image in\n",
    "                            which a face was detected\n",
    "    \"\"\"\n",
    "    image_paths = [os.path.join(images_dir, l) for l in os.listdir(images_dir)]\n",
    "    target_size = None\n",
    "    labels_file = open(os.path.join(basedir, labels_filename), 'r')\n",
    "    lines = labels_file.readlines()\n",
    "    lines = [line.strip('\"\\n') for line in lines[:]]\n",
    "    gender_labels = {line.split('\\t')[0] : int(line.split('\\t')[2]) for line in lines[1:]}\n",
    "    smiling_labels = {line.split('\\t')[0] : int(line.split('\\t')[3]) for line in lines[1:]}\n",
    "    if os.path.isdir(images_dir):\n",
    "        all_features = []\n",
    "        all_gender_labels = []\n",
    "        all_smiling_labels = []\n",
    "        for img_path in image_paths:\n",
    "            if not img_path.endswith('.jpg'):\n",
    "                continue\n",
    "            file_name= img_path.split('.')[1].split('/')[-1]\n",
    "\n",
    "            # load image\n",
    "            img = image.img_to_array(\n",
    "                image.load_img(img_path,\n",
    "                               target_size=target_size,\n",
    "                               interpolation='bicubic'))\n",
    "            features, _ = run_dlib_shape(img)\n",
    "            if features is not None:\n",
    "                all_features.append(features)\n",
    "                all_gender_labels.append(gender_labels[file_name])\n",
    "                all_smiling_labels.append(smiling_labels[file_name])\n",
    "\n",
    "    landmark_features = np.array(all_features)\n",
    "    gender_labels = (np.array(all_gender_labels) + 1)/2 # simply converts the -1 into 0, so male=0 and female=1\n",
    "    smiling_labels = (np.array(all_smiling_labels) + 1)/2\n",
    "    return landmark_features, gender_labels, smiling_labels\n",
    "\n",
    "landmark_features, gender_labels, smiling_labels = extract_features_labels()"
   ]
  },
  {
   "cell_type": "code",
   "execution_count": 41,
   "metadata": {},
   "outputs": [],
   "source": [
    "def get_data():\n",
    "\n",
    "    X, y, _ = extract_features_labels_from_celeba()\n",
    "    Y = np.array([y, -(y - 1)]).T\n",
    "    tr_X = X[:100]\n",
    "    tr_Y = Y[:100]\n",
    "    te_X = X[100:]\n",
    "    te_Y = Y[100:]\n",
    "\n",
    "    return tr_X, tr_Y, te_X, te_Y\n",
    "\n",
    "tr_X, tr_Y, te_X, te_Y= get_data()"
   ]
  },
  {
   "cell_type": "code",
   "execution_count": 42,
   "metadata": {},
   "outputs": [],
   "source": [
    "# sklearn functions implementation\n",
    "def img_SVM(training_images, training_labels, test_images, test_labels):\n",
    "    classifier = SVC(kernel = \"linear\")\n",
    "    classifier.fit(training_images, training_labels)\n",
    "    pred = classifier.predict(test_images)\n",
    "    print(\"Accuracy:\", accuracy_score(test_labels, pred))\n",
    "#     print(pred)\n",
    "    return pred\n",
    "\n",
    "def scale_data(training_images, test_images):\n",
    "    scaler = StandardScaler()\n",
    "    scaler.fit(training_images)\n",
    "    tr_X = scaler.transform(training_images)\n",
    "    te_X = scaler.transform(test_images)\n",
    "\n",
    "    return tr_X, te_X\n",
    "\n",
    "def img_MLP(training_images, training_labels, test_images, test_labels): \n",
    "    model = MLPClassifier(solver = 'adam', alpha = 1e-5, hidden_layer_sizes = (3,2), random_state = 1)\n",
    "    tr_X, te_X = scale_data(training_images, test_images)\n",
    "    model.fit(training_images, training_labels)\n",
    "    pred = model.predict(test_images)\n",
    "    print(\"Accuracy:\", accuracy_score(test_labels, pred))\n",
    "    \n",
    "    return pred"
   ]
  },
  {
   "cell_type": "code",
   "execution_count": 43,
   "metadata": {},
   "outputs": [
    {
     "name": "stdout",
     "output_type": "stream",
     "text": [
      "Accuracy: 0.8489361702127659\n"
     ]
    }
   ],
   "source": [
    "pred_img_SVM = img_SVM(tr_X.reshape((100, 68*2)), list(zip(*tr_Y))[0], te_X.reshape((4700, 68*2)), list(zip(*te_Y))[0])"
   ]
  },
  {
   "cell_type": "code",
   "execution_count": 46,
   "metadata": {},
   "outputs": [
    {
     "name": "stdout",
     "output_type": "stream",
     "text": [
      "Accuracy: 0.5048936170212766\n"
     ]
    }
   ],
   "source": [
    "pred_img_MLP = img_MLP(tr_X.reshape((100, 68*2)), list(zip(*tr_Y))[0], te_X.reshape((4700, 68*2)), list(zip(*te_Y))[0])"
   ]
  },
  {
   "cell_type": "code",
   "execution_count": null,
   "metadata": {},
   "outputs": [],
   "source": [
    "# basedir = './Datasets/celeba'\n",
    "# images_dir = os.path.join(basedir,'img')\n",
    "# labels_filename = 'labels.csv'\n",
    "# detector = dlib.get_frontal_face_detector()\n",
    "# predictor = dlib.shape_predictor('shape_predictor_68_face_landmarks.dat')\n",
    "# image_paths = [os.path.join(images_dir, l) for l in os.listdir(images_dir)]\n",
    "# target_size = None\n",
    "# labels_file = open(os.path.join(basedir, labels_filename), 'r')\n",
    "# lines = labels_file.readlines()\n",
    "# lines = [line.strip('\"\\n') for line in lines[:]]\n",
    "\n",
    "# my_lines = [int(line.split('\\t')[3]) for line in lines[1:]]\n",
    "# gender_labels = {line.split('\\t')[0] : int(line.split('\\t')[2]) for line in lines[1:]}\n",
    "# smiling_labels = {line.split('\\t')[0] : int(line.split('\\t')[3]) for line in lines[1:]}"
   ]
  }
 ],
 "metadata": {
  "kernelspec": {
   "display_name": "Python 3",
   "language": "python",
   "name": "python3"
  },
  "language_info": {
   "codemirror_mode": {
    "name": "ipython",
    "version": 3
   },
   "file_extension": ".py",
   "mimetype": "text/x-python",
   "name": "python",
   "nbconvert_exporter": "python",
   "pygments_lexer": "ipython3",
   "version": "3.7.3"
  }
 },
 "nbformat": 4,
 "nbformat_minor": 4
}
