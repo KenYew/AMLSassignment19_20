{
 "cells": [
  {
   "cell_type": "code",
   "execution_count": 1,
   "metadata": {},
   "outputs": [],
   "source": [
    "import tensorflow as tf\n",
    "from tensorflow.keras.models import Sequential\n",
    "from tensorflow.keras.layers import Dense, Dropout, Activation, Flatten, Conv2D, MaxPooling2D\n",
    "import pickle"
   ]
  },
  {
   "cell_type": "code",
   "execution_count": 2,
   "metadata": {},
   "outputs": [],
   "source": [
    "X_data = pickle.load(open('X_data.pickle', 'rb'))\n",
    "y_data = pickle.load(open('y_data.pickle', 'rb'))"
   ]
  },
  {
   "cell_type": "code",
   "execution_count": 3,
   "metadata": {},
   "outputs": [],
   "source": [
    "# Normalising data by scaling (max pixel value = 255 so we normalise by that value)\n",
    "X_data = X_data / 255.0\n",
    "# X_normalised_2 = x_train = tf.keras.utils.normalize(X_data, axis=1)"
   ]
  },
  {
   "cell_type": "code",
   "execution_count": 6,
   "metadata": {},
   "outputs": [
    {
     "name": "stdout",
     "output_type": "stream",
     "text": [
      "Train on 22451 samples, validate on 2495 samples\n",
      "Epoch 1/3\n",
      "22451/22451 [==============================] - 69s 3ms/sample - loss: 0.5933 - accuracy: 0.6783 - val_loss: 0.5480 - val_accuracy: 0.7106\n",
      "Epoch 2/3\n",
      "22451/22451 [==============================] - 72s 3ms/sample - loss: 0.5018 - accuracy: 0.7582 - val_loss: 0.4619 - val_accuracy: 0.7747\n",
      "Epoch 3/3\n",
      "22451/22451 [==============================] - 71s 3ms/sample - loss: 0.4568 - accuracy: 0.7841 - val_loss: 0.4756 - val_accuracy: 0.7784\n"
     ]
    },
    {
     "data": {
      "text/plain": [
       "<tensorflow.python.keras.callbacks.History at 0x6335bbf98>"
      ]
     },
     "execution_count": 6,
     "metadata": {},
     "output_type": "execute_result"
    }
   ],
   "source": [
    "# Creating the CNN model\n",
    "model = Sequential() # Initialising the model as a feedforward sequential model layout\n",
    "\"\"\"\n",
    "1st Layer of CNN\n",
    "\"\"\"\n",
    "# Conv2D(64, (3,3), input_shape = X.shape[1:]) - 0: number of neurons, 1: window size 2: input shape\n",
    "model.add(Conv2D(64, (3,3), input_shape = X_data.shape[1:])) # Adding a convolutional layer\n",
    "model.add(Activation('relu')) # Adding a Rectified Linear Unit activation layer\n",
    "model.add(MaxPooling2D(pool_size = (2,2))) # Adding a 2x2 pooling layer\n",
    "\"\"\"\n",
    "2nd Layer of CNN\n",
    "\"\"\"\n",
    "model.add(Conv2D(64, (3,3))) # Adding a convolutional layer\n",
    "model.add(Activation('relu')) # Adding an Rectified Linear Unit activation layer\n",
    "model.add(MaxPooling2D(pool_size = (2,2))) # Adding a 2x2 pooling layer\n",
    "\"\"\"\n",
    "3rd Layer of CNN\n",
    "\"\"\"\n",
    "model.add(Flatten()) # flatten data structure from 2-D to 1-D\n",
    "model.add(Dense(64))\n",
    "model.add(Activation('relu'))\n",
    "\"\"\"\n",
    "Output Layer of CNN\n",
    "\"\"\"\n",
    "model.add(Dense(1))\n",
    "model.add(Activation('sigmoid'))\n",
    "\n",
    "# Compiling the CNN model\n",
    "model.compile(optimizer = 'adam', loss = 'binary_crossentropy', metrics = ['accuracy'])\n",
    "model.fit(X_data, y_data, batch_size = 32, epochs = 3, validation_split = 0.1) # passing data in batches of 32 and cross validation split of 10% of data"
   ]
  },
  {
   "cell_type": "code",
   "execution_count": 7,
   "metadata": {},
   "outputs": [
    {
     "name": "stdout",
     "output_type": "stream",
     "text": [
      "INFO:tensorflow:Assets written to: CNN_binary_classification.model/assets\n"
     ]
    }
   ],
   "source": [
    "# Saving the model\n",
    "model.save('CNN_binary_classification.model')"
   ]
  },
  {
   "cell_type": "code",
   "execution_count": null,
   "metadata": {},
   "outputs": [],
   "source": []
  }
 ],
 "metadata": {
  "kernelspec": {
   "display_name": "Python 3",
   "language": "python",
   "name": "python3"
  },
  "language_info": {
   "codemirror_mode": {
    "name": "ipython",
    "version": 3
   },
   "file_extension": ".py",
   "mimetype": "text/x-python",
   "name": "python",
   "nbconvert_exporter": "python",
   "pygments_lexer": "ipython3",
   "version": "3.7.3"
  }
 },
 "nbformat": 4,
 "nbformat_minor": 4
}
