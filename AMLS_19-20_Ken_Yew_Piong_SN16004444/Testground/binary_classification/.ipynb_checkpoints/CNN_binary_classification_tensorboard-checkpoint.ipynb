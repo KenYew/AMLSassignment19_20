{
 "cells": [
  {
   "cell_type": "code",
   "execution_count": 1,
   "metadata": {},
   "outputs": [],
   "source": [
    "import tensorflow as tf\n",
    "from tensorflow.keras.models import Sequential\n",
    "from tensorflow.keras.layers import Dense, Dropout, Activation, Flatten, Conv2D, MaxPooling2D\n",
    "from tensorflow.keras.callbacks import TensorBoard\n",
    "import pickle, time"
   ]
  },
  {
   "cell_type": "code",
   "execution_count": 7,
   "metadata": {},
   "outputs": [],
   "source": [
    "NAME = f'CNN-binary-classification-64x2-{int(time.time())}'\n",
    "tensorboard = TensorBoard(log_dir = f'logs/{NAME}')"
   ]
  },
  {
   "cell_type": "code",
   "execution_count": 3,
   "metadata": {},
   "outputs": [],
   "source": [
    "X_data = pickle.load(open('X_data.pickle', 'rb'))\n",
    "y_data = pickle.load(open('y_data.pickle', 'rb'))"
   ]
  },
  {
   "cell_type": "code",
   "execution_count": 4,
   "metadata": {},
   "outputs": [],
   "source": [
    "# Normalising data by scaling (max pixel value = 255 so we normalise by that value)\n",
    "X_data = X_data / 255.0\n",
    "# X_normalised_2 = x_train = tf.keras.utils.normalize(X_data, axis=1)"
   ]
  },
  {
   "cell_type": "code",
   "execution_count": 8,
   "metadata": {},
   "outputs": [
    {
     "ename": "SyntaxError",
     "evalue": "invalid syntax (<ipython-input-8-e1dffc3a5269>, line 30)",
     "output_type": "error",
     "traceback": [
      "\u001b[0;36m  File \u001b[0;32m\"<ipython-input-8-e1dffc3a5269>\"\u001b[0;36m, line \u001b[0;32m30\u001b[0m\n\u001b[0;31m    model.fit(X_data, y_data, batch_size = 32, epochs = 3, validation_split = 0.1, callbacks = [tensorboard]) # passing data in batches of 32 and cross validation split of 10% of data\u001b[0m\n\u001b[0m        ^\u001b[0m\n\u001b[0;31mSyntaxError\u001b[0m\u001b[0;31m:\u001b[0m invalid syntax\n"
     ]
    }
   ],
   "source": [
    "# Creating the CNN model\n",
    "model = Sequential() # Initialising the model as a feedforward sequential layout\n",
    "\"\"\"\n",
    "1st Layer of CNN\n",
    "\"\"\"\n",
    "# Conv2D(64, (3,3), input_shape = X.shape[1:]) - 0: number of neurons, 1: window size 2: input shape\n",
    "model.add(Conv2D(64, (3,3), input_shape = X_data.shape[1:])) # Adding a convolutional layer\n",
    "model.add(Activation('relu')) # Adding a Rectified Linear Unit activation layer\n",
    "model.add(MaxPooling2D(pool_size = (2,2))) # Adding a 2x2 pooling layer\n",
    "\"\"\"\n",
    "2nd Layer of CNN\n",
    "\"\"\"\n",
    "model.add(Conv2D(64, (3,3))) # Adding a convolutional layer\n",
    "model.add(Activation('relu')) # Adding an Rectified Linear Unit activation layer\n",
    "model.add(MaxPooling2D(pool_size = (2,2))) # Adding a 2x2 pooling layer\n",
    "\"\"\"\n",
    "3rd Layer of CNN\n",
    "\"\"\"\n",
    "model.add(Flatten()) # flatten data structure from 2-D to 1-D\n",
    "model.add(Dense(64))\n",
    "model.add(Activation('relu'))\n",
    "\"\"\"\n",
    "Output Layer of CNN\n",
    "\"\"\"\n",
    "model.add(Dense(1))\n",
    "model.add(Activation('sigmoid'))\n",
    "\n",
    "# Compiling the CNN model\n",
    "model.compile(optimizer = 'adam', loss = 'binary_crossentropy', metrics = ['accuracy']\n",
    "model.fit(X_data, y_data, batch_size = 32, epochs = 3, validation_split = 0.1, callbacks = [tensorboard]) # passing data in batches of 32 and cross validation split of 10% of data"
   ]
  },
  {
   "cell_type": "code",
   "execution_count": null,
   "metadata": {},
   "outputs": [],
   "source": [
    "# Saving the model\n",
    "model.save('CNN_binary_classification.model')"
   ]
  },
  {
   "cell_type": "code",
   "execution_count": null,
   "metadata": {},
   "outputs": [],
   "source": []
  }
 ],
 "metadata": {
  "kernelspec": {
   "display_name": "Python 3",
   "language": "python",
   "name": "python3"
  },
  "language_info": {
   "codemirror_mode": {
    "name": "ipython",
    "version": 3
   },
   "file_extension": ".py",
   "mimetype": "text/x-python",
   "name": "python",
   "nbconvert_exporter": "python",
   "pygments_lexer": "ipython3",
   "version": "3.7.3"
  }
 },
 "nbformat": 4,
 "nbformat_minor": 4
}
