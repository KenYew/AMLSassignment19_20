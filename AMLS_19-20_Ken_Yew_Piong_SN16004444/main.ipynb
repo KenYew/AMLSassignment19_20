{
 "cells": [
  {
   "cell_type": "code",
   "execution_count": 1,
   "metadata": {},
   "outputs": [
    {
     "name": "stderr",
     "output_type": "stream",
     "text": [
      "Using TensorFlow backend.\n"
     ]
    },
    {
     "name": "stdout",
     "output_type": "stream",
     "text": [
      "importing Jupyter notebook from utils.ipynb\n"
     ]
    }
   ],
   "source": [
    "import os, math, import_ipynb, cv2, dlib\n",
    "import numpy as np\n",
    "import pandas as pd\n",
    "import matplotlib.pyplot as plt\n",
    "from keras.preprocessing import image\n",
    "\n",
    "from sklearn.metrics import classification_report, accuracy_score\n",
    "from sklearn.svm import SVC\n",
    "from sklearn.preprocessing import StandardScaler\n",
    "from sklearn.neural_network import MLPClassifier\n",
    "from sklearn.model_selection import GridSearchCV, RandomizedSearchCV, cross_val_score\n",
    "\n",
    "from utils import *"
   ]
  },
  {
   "cell_type": "code",
   "execution_count": 2,
   "metadata": {},
   "outputs": [
    {
     "data": {
      "text/plain": [
       "'/Users/kenyew/Documents/Git/AMLSassignment19_20/AMLS_19-20_Ken_Yew_Piong_SN16004444'"
      ]
     },
     "execution_count": 2,
     "metadata": {},
     "output_type": "execute_result"
    }
   ],
   "source": [
    "os.chdir(\"/Users/kenyew/Documents/Git/AMLSassignment19_20/AMLS_19-20_Ken_Yew_Piong_SN16004444/\")\n",
    "os.getcwd()"
   ]
  },
  {
   "cell_type": "code",
   "execution_count": 3,
   "metadata": {},
   "outputs": [],
   "source": [
    "# df = pd.read_csv(\"./Datasets/celeba/labels.csv\")\n",
    "# df = split_df(df)\n",
    "# print(df)\n",
    "# img_name_data = df['img_name']\n",
    "# gender_data = df['gender']\n",
    "# smiling_data = df['smiling']"
   ]
  },
  {
   "cell_type": "code",
   "execution_count": 4,
   "metadata": {},
   "outputs": [],
   "source": [
    "landmark_features_celeba, gender_labels, smiling_labels = extract_features_labels_from_celeba()\n",
    "# landmark_features_cartoon_set, eye_color_labels, face_shape_labels = extract_features_labels_from_cartoon_set()"
   ]
  },
  {
   "cell_type": "code",
   "execution_count": 5,
   "metadata": {},
   "outputs": [],
   "source": [
    "X_train, y_train, X_test, y_test = get_split_data(landmark_features_celeba, gender_labels, 10)\n",
    "X_all = landmark_features_celeba.reshape(len(landmark_features_celeba), 68*2)\n",
    "Y = np.array([gender_labels, -(gender_labels - 1)]).T\n",
    "y_all = list(zip(*Y))[0]"
   ]
  },
  {
   "cell_type": "code",
   "execution_count": null,
   "metadata": {},
   "outputs": [
    {
     "name": "stdout",
     "output_type": "stream",
     "text": [
      "# Tuning hyper-parameters for precision\n",
      "\n"
     ]
    },
    {
     "name": "stderr",
     "output_type": "stream",
     "text": [
      "/Users/kenyew/anaconda3/lib/python3.7/site-packages/sklearn/model_selection/_split.py:1978: FutureWarning: The default value of cv will change from 3 to 5 in version 0.22. Specify it explicitly to silence this warning.\n",
      "  warnings.warn(CV_WARNING, FutureWarning)\n",
      "/Users/kenyew/anaconda3/lib/python3.7/site-packages/sklearn/metrics/classification.py:1437: UndefinedMetricWarning: Precision is ill-defined and being set to 0.0 in labels with no predicted samples.\n",
      "  'precision', 'predicted', average, warn_for)\n",
      "/Users/kenyew/anaconda3/lib/python3.7/site-packages/sklearn/metrics/classification.py:1437: UndefinedMetricWarning: Precision is ill-defined and being set to 0.0 in labels with no predicted samples.\n",
      "  'precision', 'predicted', average, warn_for)\n",
      "/Users/kenyew/anaconda3/lib/python3.7/site-packages/sklearn/metrics/classification.py:1437: UndefinedMetricWarning: Precision is ill-defined and being set to 0.0 in labels with no predicted samples.\n",
      "  'precision', 'predicted', average, warn_for)\n",
      "/Users/kenyew/anaconda3/lib/python3.7/site-packages/sklearn/model_selection/_search.py:814: DeprecationWarning: The default of the `iid` parameter will change from True to False in version 0.22 and will be removed in 0.24. This will change numeric results when test-set sizes are unequal.\n",
      "  DeprecationWarning)\n"
     ]
    },
    {
     "name": "stdout",
     "output_type": "stream",
     "text": [
      "Best parameters set found on development set:\n",
      "\n",
      "{'C': 0.1, 'kernel': 'linear'}\n",
      "\n",
      "Grid scores on development set:\n",
      "\n",
      "0.599 (+/-0.476) for {'C': 0.1, 'gamma': 0.001, 'kernel': 'rbf'}\n",
      "0.432 (+/-0.475) for {'C': 0.1, 'gamma': 0.0001, 'kernel': 'rbf'}\n",
      "0.804 (+/-0.022) for {'C': 0.5, 'gamma': 0.001, 'kernel': 'rbf'}\n",
      "0.803 (+/-0.072) for {'C': 0.5, 'gamma': 0.0001, 'kernel': 'rbf'}\n",
      "0.807 (+/-0.039) for {'C': 1, 'gamma': 0.001, 'kernel': 'rbf'}\n",
      "0.819 (+/-0.022) for {'C': 1, 'gamma': 0.0001, 'kernel': 'rbf'}\n",
      "0.839 (+/-0.028) for {'C': 5, 'gamma': 0.001, 'kernel': 'rbf'}\n",
      "0.847 (+/-0.027) for {'C': 5, 'gamma': 0.0001, 'kernel': 'rbf'}\n",
      "0.837 (+/-0.009) for {'C': 10, 'gamma': 0.001, 'kernel': 'rbf'}\n",
      "0.871 (+/-0.020) for {'C': 10, 'gamma': 0.0001, 'kernel': 'rbf'}\n",
      "0.839 (+/-0.015) for {'C': 100, 'gamma': 0.001, 'kernel': 'rbf'}\n",
      "0.874 (+/-0.046) for {'C': 100, 'gamma': 0.0001, 'kernel': 'rbf'}\n",
      "0.839 (+/-0.015) for {'C': 1000, 'gamma': 0.001, 'kernel': 'rbf'}\n",
      "0.878 (+/-0.050) for {'C': 1000, 'gamma': 0.0001, 'kernel': 'rbf'}\n",
      "0.889 (+/-0.022) for {'C': 0.1, 'kernel': 'linear'}\n",
      "0.887 (+/-0.009) for {'C': 0.5, 'kernel': 'linear'}\n",
      "0.887 (+/-0.009) for {'C': 1, 'kernel': 'linear'}\n",
      "0.887 (+/-0.009) for {'C': 5, 'kernel': 'linear'}\n",
      "0.887 (+/-0.009) for {'C': 10, 'kernel': 'linear'}\n",
      "0.887 (+/-0.009) for {'C': 100, 'kernel': 'linear'}\n",
      "0.887 (+/-0.009) for {'C': 1000, 'kernel': 'linear'}\n",
      "\n",
      "Detailed classification report:\n",
      "\n",
      "The model is trained on the full development set.\n",
      "The scores are computed on the full evaluation set.\n",
      "\n",
      "              precision    recall  f1-score   support\n",
      "\n",
      "         0.0       0.89      0.90      0.89      2176\n",
      "         1.0       0.89      0.88      0.89      2144\n",
      "\n",
      "    accuracy                           0.89      4320\n",
      "   macro avg       0.89      0.89      0.89      4320\n",
      "weighted avg       0.89      0.89      0.89      4320\n",
      "\n",
      "\n",
      "Best parameters set found: {'C': 0.1, 'kernel': 'linear'}\n",
      "SVM with GridCV - Accuracy Score: 0.890 (+/- 0.000)\n",
      "SVM with GridCV on testing data - Accuracy Score: 0.890 (+/- 0.000)\n",
      "SVM with GridCV on training data - Accuracy Score: 0.973 (+/- 0.000)\n"
     ]
    },
    {
     "name": "stderr",
     "output_type": "stream",
     "text": [
      "/Users/kenyew/anaconda3/lib/python3.7/site-packages/sklearn/model_selection/_split.py:1978: FutureWarning: The default value of cv will change from 3 to 5 in version 0.22. Specify it explicitly to silence this warning.\n",
      "  warnings.warn(CV_WARNING, FutureWarning)\n"
     ]
    }
   ],
   "source": [
    "pred_img_SVM_GridCV = img_SVM_GridCV(X_all, y_all, X_train, y_train, X_test, y_test)\n",
    "# pred_img_SVM_RandomCV = img_SVM_RandomCV(all_X, all_Y, tr_X, tr_Y, te_X, te_Y)"
   ]
  },
  {
   "cell_type": "markdown",
   "metadata": {},
   "source": [
    "# Archive"
   ]
  },
  {
   "cell_type": "code",
   "execution_count": null,
   "metadata": {},
   "outputs": [],
   "source": [
    "\"\"\"\n",
    "img_SVM performance: \n",
    "Accuracy: 0.8780092592592592\n",
    "Training Error: 1.0\n",
    "Testing Error: 0.8780092592592592\n",
    "Validation Error: 0.9166666666666664\n",
    "\n",
    "img_SVM_GridCV performance:\n",
    "{'C': 0.1, 'kernel': 'linear'}\n",
    "Accuracy: 0.8900462962962963\n",
    "Training Error: 0.9729166666666667\n",
    "Testing Error: 0.8900462962962963\n",
    "\n",
    "img_SVM with scaled data performance: \n",
    "Accuracy: 0.8891203703703704\n",
    "Training Error: 0.9770833333333333\n",
    "Testing Error: 0.8891203703703704\n",
    "Validation Error: 0.9172916666666666\n",
    "\"\"\"\n",
    "\n",
    "# model.fit(X_train, y_train).score(X_train, y_train) FOR TRAINING ERROR\n",
    "#     train_errors.append(enet.score(X_train, y_train))\n",
    "#     test_errors.append(enet.score(X_test, y_test))\n",
    "# classification_report(expected, y_1)\n",
    "\n",
    "# Exhaustive List \n",
    "#     param_grid = [\n",
    "#   {'C': [1, 10, 100, 1000], 'kernel': ['linear']},\n",
    "#   {'C': [1, 10, 100, 1000], 'gamma': [0.001, 0.0001], 'kernel': ['rbf']},\n",
    "#  ]\n",
    "\n",
    "# def get_data(X, y):\n",
    "#     Y = np.array([y, -(y - 1)]).T\n",
    "#     tr_X = X[:100]\n",
    "#     tr_Y = Y[:100]\n",
    "#     te_X = X[100:]\n",
    "#     te_Y = Y[100:]\n",
    "#     print(len(tr_X))\n",
    "#     print(len(te_X))\n",
    "    \n",
    "#     tr_X = tr_X.reshape(len(tr_X), 68*2)\n",
    "#     tr_Y = list(zip(*tr_Y))[0]\n",
    "#     te_X = te_X.reshape(len(te_X), 68*2)\n",
    "#     te_Y = list(zip(*te_Y))[0]\n",
    "#     return tr_X, tr_Y, te_X, te_Y\n",
    "# tr_X, tr_Y, te_X, te_Y = get_data(landmark_features_celeba, gender_labels)\n",
    "\n",
    "# def scale_data(training_images, test_images):\n",
    "#     scaler = StandardScaler()\n",
    "#     scaler.fit(training_images)\n",
    "#     tr_X = scaler.transform(training_images)\n",
    "#     te_X = scaler.transform(test_images)\n",
    "\n",
    "#     return tr_X, te_X\n",
    "\n",
    "# def scale_data(data):\n",
    "#     scaler = StandardScaler()\n",
    "#     scaler.fit(data)\n",
    "#     scaled_data = scaler.transform(data)\n",
    "#     return scaled_data\n",
    "\n",
    "# scaled_all_X = scale_data(all_X)\n",
    "# scaled_tr_X = scale_data(tr_X)\n",
    "# scaled_te_X = scale_data(te_X)\n",
    "# pred_img_SVM_scaled = img_SVM(scaled_all_X, all_Y, scaled_tr_X, tr_Y, scaled_te_X, te_Y)\n",
    "\n",
    "# sklearn functions implementation\n",
    "def img_SVM(training_images, training_labels, test_images, test_labels):\n",
    "    classifier = SVC(kernel = \"linear\")\n",
    "    classifier.fit(training_images, training_labels)\n",
    "    pred = classifier.predict(test_images)\n",
    "    print(\"Accuracy:\", accuracy_score(test_labels, pred))\n",
    "#     print(pred)\n",
    "    return pred\n",
    "\n",
    "def img_MLP(training_images, training_labels, test_images, test_labels): \n",
    "    model = MLPClassifier(solver = 'adam', alpha = 1e-5, hidden_layer_sizes = (3,2), random_state = 1)\n",
    "    tr_X, te_X = scale_data(training_images, test_images)\n",
    "    model.fit(training_images, training_labels)\n",
    "    pred = model.predict(test_images)\n",
    "    print(\"Accuracy:\", accuracy_score(test_labels, pred))\n",
    "    \n",
    "    return pred\n",
    "\n",
    "# pred_img_SVM = img_SVM(tr_X.reshape((100, 68*2)), list(zip(*tr_Y))[0], te_X.reshape((4700, 68*2)), list(zip(*te_Y))[0])\n",
    "# pred_img_MLP = img_MLP(tr_X.reshape((100, 68*2)), list(zip(*tr_Y))[0], te_X.reshape((4700, 68*2)), list(zip(*te_Y))[0])"
   ]
  }
 ],
 "metadata": {
  "kernelspec": {
   "display_name": "Python 3",
   "language": "python",
   "name": "python3"
  },
  "language_info": {
   "codemirror_mode": {
    "name": "ipython",
    "version": 3
   },
   "file_extension": ".py",
   "mimetype": "text/x-python",
   "name": "python",
   "nbconvert_exporter": "python",
   "pygments_lexer": "ipython3",
   "version": "3.7.3"
  }
 },
 "nbformat": 4,
 "nbformat_minor": 4
}
